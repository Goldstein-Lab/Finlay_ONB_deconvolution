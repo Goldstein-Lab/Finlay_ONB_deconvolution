{
 "cells": [
  {
   "cell_type": "markdown",
   "id": "f5abb516-be4a-4cde-ad1f-40af6fd7c31b",
   "metadata": {},
   "source": [
    "See 0_process_for_deconvolution.ipynb for preprocessing steps"
   ]
  },
  {
   "cell_type": "code",
   "execution_count": null,
   "id": "cf70dc0c-2a34-441c-8feb-99f7a8fa8f23",
   "metadata": {},
   "outputs": [],
   "source": [
    "#Ensure packages are imported\n",
    "import numpy as np\n",
    "import pandas as pd\n",
    "from matplotlib import rcParams\n",
    "import os\n",
    "import scanpy as sc\n",
    "import sys\n",
    "import anndata\n",
    "from collections import defaultdict\n",
    "import matplotlib as mpl\n",
    "import matplotlib.pyplot as plt\n",
    "import cmocean\n",
    "import seaborn as sns\n",
    "\n",
    "from rnasieve.preprocessing import model_from_raw_counts\n",
    "import altair as alt\n",
    "from rnasieve.algo import find_mixtures"
   ]
  },
  {
   "cell_type": "markdown",
   "id": "a60cf17b-6498-43b1-a533-dd261701f398",
   "metadata": {},
   "source": [
    "# Prep for running model"
   ]
  },
  {
   "cell_type": "code",
   "execution_count": null,
   "id": "36ef734c-4127-4e88-80d5-e89f19553c39",
   "metadata": {},
   "outputs": [],
   "source": [
    "#Only retain genes present in both bulk and sc datasets\n",
    "joint_indices = adata_ref.var.index.intersection(adata_bulk.var.index)\n",
    "adata_ref_joint = adata_ref[:,joint_indices]\n",
    "adata_bulk_joint = adata_bulk[:,joint_indices]"
   ]
  },
  {
   "cell_type": "code",
   "execution_count": null,
   "id": "f1d2efda-727d-4f34-895d-b3f0d2b83aee",
   "metadata": {},
   "outputs": [],
   "source": [
    "# Raw counts prep\n",
    "#this can take some time depending on number of single cell inputs\n",
    "print('Aggregating by ontology class...')\n",
    "counts_by_onto_class = {}\n",
    "for i in range(len(adata_ref_joint)):\n",
    "    sc = adata_ref_joint[i]\n",
    "    if len(sc.obs['cluster_names']) == 0:\n",
    "        continue\n",
    "    cell_onto_class = sc.obs['cluster_names'][0]\n",
    "    if cell_onto_class not in counts_by_onto_class:\n",
    "        counts_by_onto_class[cell_onto_class] = np.empty((sc.X.shape[1], 0), dtype=np.float32)\n",
    "    counts_by_onto_class[cell_onto_class] = np.hstack(\n",
    "        (counts_by_onto_class[cell_onto_class], sc.X.toarray().reshape(-1, 1)))\n",
    "print('Done!')   "
   ]
  },
  {
   "cell_type": "code",
   "execution_count": null,
   "id": "8db11e6d-18bc-4888-a43c-00dd6b693753",
   "metadata": {},
   "outputs": [],
   "source": [
    "# Bulk prep\n",
    "#Prepares bulk data to be run through model\n",
    "print('Aggregating bulks by age group...')\n",
    "G = adata_bulk_joint.n_vars\n",
    "bulk_by_age = defaultdict(list)\n",
    "for i in range(len(adata_bulk_joint)):\n",
    "    bulk = adata_bulk_joint[i]\n",
    "    if len(adata_bulk_joint.obs['Tumor_type']) == 0:\n",
    "        continue\n",
    "    age = adata_bulk_joint.obs['Tumor_type'][0]\n",
    "    bulk_by_age[age].append(bulk.X.toarray().reshape(-1, 1))\n",
    "\n",
    "bulk_labels = []\n",
    "psis = np.empty((G, 0), dtype=np.float32)\n",
    "for age in sorted(bulk_by_age.keys()):\n",
    "    bulks = bulk_by_age[age]\n",
    "    for i in range(len(bulks)):\n",
    "        psis = np.hstack((psis, bulks[i]))\n",
    "print('Done!')"
   ]
  },
  {
   "cell_type": "code",
   "execution_count": null,
   "id": "eaa038cb-ff46-4ef9-96dd-761ead56a900",
   "metadata": {},
   "outputs": [],
   "source": [
    "#Set up model\n",
    "#change psis[:, :x] to x=number of bulk samples you have\n",
    "model, cleaned_psis = model_from_raw_counts(counts_by_onto_class, psis[:, :22])"
   ]
  },
  {
   "cell_type": "markdown",
   "id": "be5fc90b-7411-47df-bb22-0bcd01494a81",
   "metadata": {},
   "source": [
    "# Run model"
   ]
  },
  {
   "cell_type": "code",
   "execution_count": null,
   "id": "943f3638-c2ab-443c-bd0b-23971b6b4cac",
   "metadata": {},
   "outputs": [],
   "source": [
    "#Run model\n",
    "#This will take a while depending on number of samples\n",
    "output=model.predict(cleaned_psis)"
   ]
  },
  {
   "cell_type": "code",
   "execution_count": null,
   "id": "317432d9-2fe3-4607-88b2-c94c05e5fea9",
   "metadata": {},
   "outputs": [],
   "source": [
    "output"
   ]
  },
  {
   "cell_type": "markdown",
   "id": "da90fcfe-c77d-4733-a345-fbc499a08837",
   "metadata": {},
   "source": [
    "Upon finishing, can output cell type proportion estimates to format of your choice (e.g. .csv)"
   ]
  },
  {
   "cell_type": "markdown",
   "id": "ae2fb7fd-4f64-40d0-84e5-8654b51470fd",
   "metadata": {},
   "source": [
    "# Create output graphs"
   ]
  },
  {
   "cell_type": "code",
   "execution_count": null,
   "id": "9a024830-271b-4658-9672-c362f5d95983",
   "metadata": {},
   "outputs": [],
   "source": [
    "#Create alpha hats melt object\n",
    "alpha_hats_melt = pd.melt(\n",
    "    output.reset_index(),\n",
    "    id_vars=['index'],\n",
    "    var_name='cell_type',\n",
    "    value_name='proportion')"
   ]
  },
  {
   "cell_type": "code",
   "execution_count": null,
   "id": "6e47264f-63ab-486c-9ed6-99ed26a6405c",
   "metadata": {},
   "outputs": [],
   "source": [
    "#Can re-order cell types\n",
    "#For example\n",
    "#Reorder\n",
    "alpha_hats_melt['order'] = alpha_hats_melt['cell_type'].replace(\n",
    "    {val: i for i, val in enumerate(['Horizontal basal cell', 'Globose basal cell', 'Immediate neural precursor', 'Immature olfactory sensory neuron', 'Mature olfactory sensory neuron', 'Microvillar cell', 'Sustentacular cell', \"Bowman's Gland\", 'Olfactory ensheathing cell', \n",
    "              'Respiratory basal cell', 'Respiratory suprabasal cell', 'Respiratory cell', 'Respiratory ciliated cell', 'Secretory cell', 'Goblet cell', \n",
    "             'Endothelial cell', 'Smooth muscle cell', 'Fibroblast',\n",
    "             'Red blood cell', 'Monocyte', 'Macrophage', 'Mast cell', 'Neutrophil', 'Dendritic cell', 'Plasma cell', 'B cell', 'NK/NKT cell', 'CD4 T cell', 'CD8 T cell'])}\n",
    ")"
   ]
  },
  {
   "cell_type": "code",
   "execution_count": null,
   "id": "b501f6fb-0be1-4a25-82a8-c6567daa9edf",
   "metadata": {},
   "outputs": [],
   "source": [
    "#Optionally, specify color palette for each cell type\n",
    "#For example\n",
    "dom=['HBC', 'GBC', 'INP', 'iOSN', 'mOSN', 'Microvillar', \"Bowman's Gland\", 'Sustentacular', 'Olf. Ensheathing', \n",
    "              'Resp. Basal', 'Resp. Suprabasal', 'Resp.', 'Resp. Ciliated', 'Secretory', 'Goblet', \n",
    "             'Endothelial', 'Smooth Muscle', 'Fibroblasts',\n",
    "             'RBC', 'Monocytes', 'Macrophages', 'Mast Cells', 'Neutrophils', 'pDC', 'Plasma Cells', 'B Cells', 'NK/NKT', 'CD4 T', 'CD8 T']\n",
    "\n",
    "rng= ['thistle', '#e95ea2', '#b61c7e', 'plum', 'darkorchid', '#00bed4', 'slateblue', 'cyan', 'deepskyblue',\n",
    "      'yellowgreen', 'limegreen', 'darkseagreen', 'darkgreen', 'yellow', 'olive',\n",
    "      'sienna', 'gray', 'tan'\n",
    "      'red', 'lightcoral', 'darkorange', 'gold', 'tomato', 'bisque', 'black', 'rosybrown', '#a0a09e', 'gold', 'silver']"
   ]
  },
  {
   "cell_type": "code",
   "execution_count": null,
   "id": "3f7aebba-1115-4414-96e0-0cbbb72b3e76",
   "metadata": {},
   "outputs": [],
   "source": [
    "#Create stacked bar chart\n"
   ]
  }
 ],
 "metadata": {
  "kernelspec": {
   "display_name": "jbf18_env",
   "language": "python",
   "name": "jbf18_env"
  },
  "language_info": {
   "codemirror_mode": {
    "name": "ipython",
    "version": 3
   },
   "file_extension": ".py",
   "mimetype": "text/x-python",
   "name": "python",
   "nbconvert_exporter": "python",
   "pygments_lexer": "ipython3",
   "version": "3.9.0"
  }
 },
 "nbformat": 4,
 "nbformat_minor": 5
}
