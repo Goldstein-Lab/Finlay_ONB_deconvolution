#Import relevant packages
import numpy as np
import pandas as pd
from matplotlib import rcParams
import os
import scanpy as sc
import sys
import anndata
from collections import defaultdict

import matplotlib as mpl
import matplotlib.pyplot as plt

#For nice color schemes
import cmocean

#For barplots 
import seaborn as sns

#Import rnasieve for deconvolution of bulk RNA-Seq 
from rnasieve.preprocessing import model_from_raw_counts

#For better graphing
import altair as alt
from rnasieve.algo import find_mixtures

#Setwd to goldsteinlab folder (has more space)
os.chdir('/hpc/group/goldsteinlab/Python')


