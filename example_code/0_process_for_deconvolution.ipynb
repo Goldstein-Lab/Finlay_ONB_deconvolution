{
 "cells": [
  {
   "cell_type": "markdown",
   "id": "affeb74c-6f2b-43c8-a111-53701d311883",
   "metadata": {},
   "source": [
    "# Prepare workspace"
   ]
  },
  {
   "cell_type": "code",
   "execution_count": null,
   "id": "23c01764-ac10-44b5-a068-ab3c87be5b5e",
   "metadata": {},
   "outputs": [],
   "source": [
    "#Import relevant packages\n",
    "import numpy as np\n",
    "import pandas as pd\n",
    "from matplotlib import rcParams\n",
    "import os\n",
    "import scanpy as sc\n",
    "import sys\n",
    "import anndata\n",
    "from collections import defaultdict\n",
    "\n",
    "import matplotlib as mpl\n",
    "import matplotlib.pyplot as plt\n",
    "\n",
    "#For nice color schemes\n",
    "import cmocean\n",
    "\n",
    "#For barplots \n",
    "import seaborn as sns"
   ]
  },
  {
   "cell_type": "code",
   "execution_count": null,
   "id": "a4f3c672-9f15-4767-8b4c-e693dc11a371",
   "metadata": {},
   "outputs": [],
   "source": [
    "#Import rnasieve for deconvolution of bulk RNA-Seq \n",
    "from rnasieve.preprocessing import model_from_raw_counts"
   ]
  },
  {
   "cell_type": "code",
   "execution_count": null,
   "id": "ea07c9be-3cf4-474d-97bc-29b4d411cbd6",
   "metadata": {},
   "outputs": [],
   "source": [
    "#For better graphing\n",
    "import altair as alt\n",
    "from rnasieve.algo import find_mixtures"
   ]
  },
  {
   "cell_type": "code",
   "execution_count": null,
   "id": "b18cd529-7df2-4764-bc3d-3c86942cdef7",
   "metadata": {},
   "outputs": [],
   "source": [
    "#Setwd \n",
    "os.chdir('/hpc/group/goldsteinlab/Python')"
   ]
  },
  {
   "cell_type": "code",
   "execution_count": null,
   "id": "832f331b-7a31-4e28-b3eb-af9aaa7b62f5",
   "metadata": {},
   "outputs": [],
   "source": [
    "#Set fontsize\n",
    "plt.rcParams.update({'font.size': 15})"
   ]
  },
  {
   "cell_type": "code",
   "execution_count": null,
   "id": "48bd8d9f-c846-4ce9-ae5f-34b5e30639dc",
   "metadata": {},
   "outputs": [],
   "source": [
    "#Show full pandas dataframe when produced\n",
    "pd.set_option('display.max_columns', None)\n",
    "pd.set_option('display.max_rows', 50)"
   ]
  },
  {
   "cell_type": "markdown",
   "id": "1c491093-1397-4222-8e43-2837b8c734b0",
   "metadata": {},
   "source": [
    "# Load data"
   ]
  },
  {
   "cell_type": "code",
   "execution_count": null,
   "id": "121da26d-4148-428c-868a-f4c905df30b5",
   "metadata": {},
   "outputs": [],
   "source": [
    "#Read in csv counts matrix\n",
    "#This contains bulk RNA Seq count data with gene name in index column\n",
    "#Each subsequent column is 1 bulk sample\n",
    "df = pd.read_csv('19_ONB_plus_3_control_filtered.csv', index_col = 0)"
   ]
  },
  {
   "cell_type": "code",
   "execution_count": null,
   "id": "a5300021-65d6-447c-a9c5-11208a5de130",
   "metadata": {},
   "outputs": [],
   "source": [
    "#Create obs\n",
    "l1 = [t.split('_')[1] for t in df.columns]\n",
    "np.unique(l1)\n",
    "pd.Series(l1).value_counts()\n",
    "\n",
    "\n",
    "obs = pd.DataFrame(index = df.columns)\n",
    "obs['Tumor_type'] = 'ONB'\n",
    "obs['Tumor_ID'] = l1\n",
    "obs"
   ]
  },
  {
   "cell_type": "code",
   "execution_count": null,
   "id": "db62f7f6-68e1-4f38-a52f-339fe59590d3",
   "metadata": {},
   "outputs": [],
   "source": [
    "#Create genes dataframe for var\n",
    "df_genes = pd.DataFrame(index = df.index)"
   ]
  },
  {
   "cell_type": "code",
   "execution_count": null,
   "id": "83c5e726-1ce9-456c-97b2-c230826c4e6c",
   "metadata": {},
   "outputs": [],
   "source": [
    "#Create anndata object\n",
    "adata_bulk = anndata.AnnData(X = df.values.T, var = df_genes, obs = obs)\n",
    "adata_bulk"
   ]
  },
  {
   "cell_type": "code",
   "execution_count": null,
   "id": "4a0cb7a7-77bd-4558-b340-552fdb00a057",
   "metadata": {},
   "outputs": [],
   "source": [
    "#Read in reference single cell data\n",
    "#this should be an anndata object with cluster names annotated by cell identity\n",
    "adata_ref= anndata.read_h5ad('All_cells_annotated_16_samples.h5ad')"
   ]
  },
  {
   "cell_type": "code",
   "execution_count": null,
   "id": "472014cb-e798-4a00-b090-2a6545efe365",
   "metadata": {},
   "outputs": [],
   "source": [
    "#check cluster names\n",
    "#for example\n",
    "adata_ref.obs.groupby(['cluster_names']).apply(len)"
   ]
  },
  {
   "cell_type": "markdown",
   "id": "47e473f8-0f15-486b-8378-f55e1012ebe4",
   "metadata": {},
   "source": [
    "Now ready to proceed to running deconvolution model"
   ]
  },
  {
   "cell_type": "code",
   "execution_count": null,
   "id": "cc21f4e8-817b-442f-a35f-5a47f912b837",
   "metadata": {},
   "outputs": [],
   "source": []
  }
 ],
 "metadata": {
  "kernelspec": {
   "display_name": "jbf18_env",
   "language": "python",
   "name": "jbf18_env"
  },
  "language_info": {
   "codemirror_mode": {
    "name": "ipython",
    "version": 3
   },
   "file_extension": ".py",
   "mimetype": "text/x-python",
   "name": "python",
   "nbconvert_exporter": "python",
   "pygments_lexer": "ipython3",
   "version": "3.9.0"
  }
 },
 "nbformat": 4,
 "nbformat_minor": 5
}
